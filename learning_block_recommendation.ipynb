{
 "cells": [
  {
   "cell_type": "markdown",
   "metadata": {},
   "source": [
    "# <center>When is the best time to have team learning blocks?</center>"
   ]
  },
  {
   "cell_type": "markdown",
   "metadata": {},
   "source": [
    "# Table of Contents<a class=\"anchor\" id=\"top\"></a>\n",
    "1. [Intro](#intro)\n",
    "2. [Data Cleaning](#data_cleaning)\n",
    "3. [Task count by local hour of day](#hour_of_day)\n",
    "4. [Task count by local day of week](#day_of_week)\n",
    "5. [Task count by local hour of day and day of week for each region](#multivariate_exploration)\n",
    "\n",
    "# Intro<a class=\"anchor\" id=\"intro\"></a>\n",
    "This half, our team wanted to dedicate some time during the week to learn new things. During these learning blocks, we plan to block out time for learning. Ad hoc requests (I'll call these \"tasks\" going forward) will not be assigned when the team has a learning block. We want 4 hours per week for learning time, and each learning block should be at least an hour long.\n",
    "\n",
    "For this project, I'll analyze task data and see which times during the week might be best for team learning blocks. My assumption is that hours during the week with the lowest volume of tasks will be best. These times should have the least impact on our stakeholders, as we'll only pick up these tasks outside of learning blocks. Our organization has teams in 3 regions. I decided to look at data for all regions combined, as well as individually. Data is from an internal table and was stored in the tasks.csv file for this analysis."
   ]
  },
  {
   "cell_type": "code",
   "execution_count": 55,
   "metadata": {},
   "outputs": [],
   "source": [
    "import pandas as pd\n",
    "import numpy as np\n",
    "import matplotlib.pyplot as plt\n",
    "import seaborn as sb\n",
    "\n",
    "%matplotlib inline"
   ]
  },
  {
   "cell_type": "code",
   "execution_count": 56,
   "metadata": {},
   "outputs": [],
   "source": [
    "tasks = pd.read_csv('tasks.csv')"
   ]
  },
  {
   "cell_type": "code",
   "execution_count": 57,
   "metadata": {},
   "outputs": [
    {
     "name": "stdout",
     "output_type": "stream",
     "text": [
      "<class 'pandas.core.frame.DataFrame'>\n",
      "RangeIndex: 4986 entries, 0 to 4985\n",
      "Data columns (total 7 columns):\n",
      " #   Column                Non-Null Count  Dtype  \n",
      "---  ------                --------------  -----  \n",
      " 0   task_id               4986 non-null   float64\n",
      " 1   created_time          4986 non-null   int64  \n",
      " 2   creation_date         4986 non-null   object \n",
      " 3   first_assigned_time   4656 non-null   float64\n",
      " 4   first_comment_time    4491 non-null   float64\n",
      " 5   task_owner_id         4984 non-null   float64\n",
      " 6   first_comment_region  4491 non-null   object \n",
      "dtypes: float64(4), int64(1), object(2)\n",
      "memory usage: 272.8+ KB\n"
     ]
    }
   ],
   "source": [
    "tasks.info()"
   ]
  },
  {
   "cell_type": "markdown",
   "metadata": {},
   "source": [
    "[Back to top](#top)"
   ]
  },
  {
   "cell_type": "markdown",
   "metadata": {},
   "source": [
    "# Data Cleaning<a class=\"anchor\" id=\"data_cleaning\"></a>\n",
    "1. Check tasks with null first_assigned_time or first_comment_time. Just want to ensure that there's no issue with our task assignment system.\n",
    "2. Check tasks with null task_owner_id. Perhaps these are new tasks that didn't get assigned yet."
   ]
  },
  {
   "cell_type": "markdown",
   "metadata": {},
   "source": [
    "## 1. Check tasks with null first_assigned_time or first_comment_time\n",
    "\n",
    "### Null first_assigned_time\n",
    "I did some spot checks. These tasks indeed did not have someone from our team assigned, and they were addressed by other teams. We can remove these from the data set."
   ]
  },
  {
   "cell_type": "code",
   "execution_count": 58,
   "metadata": {},
   "outputs": [],
   "source": [
    "tasks.dropna(subset=['first_assigned_time'], inplace=True)"
   ]
  },
  {
   "cell_type": "markdown",
   "metadata": {},
   "source": [
    "### Null first_comment_time"
   ]
  },
  {
   "cell_type": "markdown",
   "metadata": {},
   "source": [
    "I did some spot checks here as well. These tasks were closed without a comment from our team. For this analysis, I'm using the first_comment_region column to determine the region. The number of tasks without a comment from our team is relatively small, so I'll drop these as well."
   ]
  },
  {
   "cell_type": "code",
   "execution_count": 59,
   "metadata": {},
   "outputs": [],
   "source": [
    "tasks.dropna(subset=['first_comment_time'], inplace=True)"
   ]
  },
  {
   "cell_type": "markdown",
   "metadata": {},
   "source": [
    "## 2. Check tasks with null task_owner_id"
   ]
  },
  {
   "cell_type": "code",
   "execution_count": 60,
   "metadata": {},
   "outputs": [
    {
     "data": {
      "text/html": [
       "<div>\n",
       "<style scoped>\n",
       "    .dataframe tbody tr th:only-of-type {\n",
       "        vertical-align: middle;\n",
       "    }\n",
       "\n",
       "    .dataframe tbody tr th {\n",
       "        vertical-align: top;\n",
       "    }\n",
       "\n",
       "    .dataframe thead th {\n",
       "        text-align: right;\n",
       "    }\n",
       "</style>\n",
       "<table border=\"1\" class=\"dataframe\">\n",
       "  <thead>\n",
       "    <tr style=\"text-align: right;\">\n",
       "      <th></th>\n",
       "      <th>task_id</th>\n",
       "      <th>created_time</th>\n",
       "      <th>creation_date</th>\n",
       "      <th>first_assigned_time</th>\n",
       "      <th>first_comment_time</th>\n",
       "      <th>task_owner_id</th>\n",
       "      <th>first_comment_region</th>\n",
       "    </tr>\n",
       "  </thead>\n",
       "  <tbody>\n",
       "  </tbody>\n",
       "</table>\n",
       "</div>"
      ],
      "text/plain": [
       "Empty DataFrame\n",
       "Columns: [task_id, created_time, creation_date, first_assigned_time, first_comment_time, task_owner_id, first_comment_region]\n",
       "Index: []"
      ]
     },
     "execution_count": 60,
     "metadata": {},
     "output_type": "execute_result"
    }
   ],
   "source": [
    "tasks[tasks['task_owner_id'].isnull()]"
   ]
  },
  {
   "cell_type": "markdown",
   "metadata": {},
   "source": [
    "Looks like tasks with null task_owner_id either had a null first_assigned_time or first_comment_time. These were dropped already, so we can continue on.\n",
    "\n",
    "[Back to top](#top)"
   ]
  },
  {
   "cell_type": "markdown",
   "metadata": {},
   "source": [
    "# Task count by local hour of day<a class=\"anchor\" id=\"hour_of_day\"></a>\n",
    "To determine the best learning blocks, we probably want to look at the task volume by hour of day, and day of week, for each region. However, I wanted to start by looking at local hour of day for all regions combined to see if there are any insights first."
   ]
  },
  {
   "cell_type": "code",
   "execution_count": 61,
   "metadata": {},
   "outputs": [],
   "source": [
    "# Splitting the data set by region. To get local time, I created a datetime index column called created_time_local.\n",
    "# I *think* this column can only be in one time zone within a dataframe\n",
    "# Each region then derived the local hour of day and day of week from this column\n",
    "# Finally, this column was dropped and the regional dataframes could then be combined\n",
    "\n",
    "tasks_a = tasks.loc[tasks.first_comment_region == 'Region A', :].copy()\n",
    "tasks_b = tasks.loc[tasks.first_comment_region == 'Region B', :].copy()\n",
    "tasks_c = tasks.loc[tasks.first_comment_region == 'Region C', :].copy()"
   ]
  },
  {
   "cell_type": "code",
   "execution_count": 62,
   "metadata": {},
   "outputs": [],
   "source": [
    "tasks_a.loc[:, 'created_time_local'] = pd.DatetimeIndex(pd.to_datetime(tasks_a['created_time'], unit='s', errors='coerce')).tz_localize('UTC').tz_convert('Asia/Kuala_Lumpur')\n",
    "tasks_a.loc[:, 'created_time_local_hour'] = tasks_a['created_time_local'].dt.hour\n",
    "tasks_a.loc[:, 'created_time_local_dow'] = tasks_a['created_time_local'].dt.dayofweek\n",
    "\n",
    "tasks_b.loc[:, 'created_time_local'] = pd.DatetimeIndex(pd.to_datetime(tasks_b['created_time'], unit='s', errors='coerce')).tz_localize('UTC').tz_convert('Europe/London')\n",
    "tasks_b.loc[:, 'created_time_local_hour'] = tasks_b['created_time_local'].dt.hour\n",
    "tasks_b.loc[:, 'created_time_local_dow'] = tasks_b['created_time_local'].dt.dayofweek\n",
    "\n",
    "tasks_c.loc[:, 'created_time_local'] = pd.DatetimeIndex(pd.to_datetime(tasks_c['created_time'], unit='s', errors='coerce')).tz_localize('UTC').tz_convert('America/Detroit')\n",
    "tasks_c.loc[:, 'created_time_local_hour'] = tasks_c['created_time_local'].dt.hour\n",
    "tasks_c.loc[:, 'created_time_local_dow'] = tasks_c['created_time_local'].dt.dayofweek"
   ]
  },
  {
   "cell_type": "code",
   "execution_count": 63,
   "metadata": {},
   "outputs": [],
   "source": [
    "tasks_a.drop(columns=['created_time_local'], inplace=True)\n",
    "tasks_b.drop(columns=['created_time_local'], inplace=True)\n",
    "tasks_c.drop(columns=['created_time_local'], inplace=True)"
   ]
  },
  {
   "cell_type": "code",
   "execution_count": 64,
   "metadata": {},
   "outputs": [],
   "source": [
    "tasks_local = pd.concat([tasks_a, tasks_b, tasks_c], ignore_index=True)"
   ]
  },
  {
   "cell_type": "code",
   "execution_count": 65,
   "metadata": {},
   "outputs": [
    {
     "data": {
      "image/png": "[encoded data removed]",
      "text/plain": [
       "<Figure size 432x288 with 1 Axes>"
      ]
     },
     "metadata": {
      "needs_background": "light"
     },
     "output_type": "display_data"
    }
   ],
   "source": [
    "base_color = sb.color_palette()[0]\n",
    "sb.countplot(data=tasks_local, x='created_time_local_hour', color=base_color)\n",
    "plt.xticks(\n",
    "    ticks = [0.0,1.0,2.0,3.0,4.0,5.0,6.0,7.0,8.0,9.0,10.0,11.0,12.0,13.0,14.0,15.0,16.0,17.0,18.0,19.0,20.0,21.0,22.0,23.0],\n",
    "    labels = [0,1,2,3,4,5,6,7,8,9,10,11,12,13,14,15,16,17,18,19,20,21,22,23]\n",
    ")\n",
    "plt.xticks(rotation=45)\n",
    "plt.ylabel('Task count')\n",
    "plt.xlabel('Local hour of day')\n",
    "plt.title('Task count by local hour of day');"
   ]
  },
  {
   "cell_type": "markdown",
   "metadata": {},
   "source": [
    "Most tasks are filed during the middle of the work day. Interesting that there are still tasks coming in outside of normal working hours though.\n",
    "\n",
    "[Back to top](#top)\n",
    "\n",
    "# Task count by local day of week<a class=\"anchor\" id=\"day_of_week\"></a>\n",
    "Similar to the local hour of day analysis above, I just wanted to look at task volume by local day of week for all regions combined to see if there are any insights."
   ]
  },
  {
   "cell_type": "code",
   "execution_count": 66,
   "metadata": {},
   "outputs": [
    {
     "data": {
      "image/png": "[encoded data removed]",
      "text/plain": [
       "<Figure size 432x288 with 1 Axes>"
      ]
     },
     "metadata": {
      "needs_background": "light"
     },
     "output_type": "display_data"
    }
   ],
   "source": [
    "dow_order = ['Monday','Tuesday','Wednesday','Thursday','Friday','Saturday','Sunday']\n",
    "tasks_local['created_time_local_dow'].replace([0,1,2,3,4,5,6], dow_order, inplace=True)\n",
    "\n",
    "sb.countplot(data=tasks_local, x='created_time_local_dow', order=dow_order, color=base_color)\n",
    "plt.xticks(rotation=45)\n",
    "plt.ylabel('Task count')\n",
    "plt.xlabel('Local day of week')\n",
    "plt.title('Task count by local day of week');"
   ]
  },
  {
   "cell_type": "markdown",
   "metadata": {},
   "source": [
    "Most tasks are filed from Monday through Friday. Friday is the lowest volume day during the work week. Some tasks still come in during the weekend.\n",
    "\n",
    "[Back to top](#top)\n",
    "\n",
    "# Task count by local hour of day and day of week for each region<a class=\"anchor\" id=\"multivariate_exploration\"></a>\n",
    "On to the main point of the analysis. I'll use a facet grid in Seaborn to see task volume for each region and day of week individually. This will provide a quick visual indicator of which times have the lowest task volume for each region. I considered 12-1 pm as lunch hour, so that was excluded from consideration for learning blocks."
   ]
  },
  {
   "cell_type": "code",
   "execution_count": 67,
   "metadata": {},
   "outputs": [
    {
     "data": {
      "image/png": "[encoded data removed]",
      "text/plain": [
       "<Figure size 1080x648 with 15 Axes>"
      ]
     },
     "metadata": {
      "needs_background": "light"
     },
     "output_type": "display_data"
    }
   ],
   "source": [
    "workweek_order = ['Monday', 'Tuesday', 'Wednesday', 'Thursday', 'Friday']\n",
    "tasks_workweek = tasks_local[tasks_local['created_time_local_dow'].isin(workweek_order)].copy()\n",
    "\n",
    "g = sb.FacetGrid(data=tasks_workweek, col='created_time_local_dow', row='first_comment_region', col_order=workweek_order, sharey='row')\n",
    "g.map(plt.hist, 'created_time_local_hour', bins=[9,10,11,12,13,14,15,16,17,18])\n",
    "g.fig.subplots_adjust(top=0.9)\n",
    "g.fig.suptitle('Task count by local hour of day and day of week for each region')\n",
    "g.set_titles('{row_name} - {col_name}')\n",
    "g.set_axis_labels(\"Local hour of day\", \"Task count\")\n",
    "\n",
    "for ax in g.axes.flatten():\n",
    "    ax.tick_params(labelleft=True, labelbottom=True)\n",
    "    \n",
    "plt.subplots_adjust(wspace=0.4, hspace=0.4);"
   ]
  },
  {
   "cell_type": "markdown",
   "metadata": {},
   "source": [
    "Top picks for team learning blocks for each region:\n",
    "* Region A:\n",
    "  * Tue, Thu 9-10 am\n",
    "  * Fri 9-10 am, 11 am - 12 pm\n",
    "* Region B:\n",
    "  * Tue 9-10 am, 1-2 pm\n",
    "  * Fri 9-10 am, 2-3 pm\n",
    "* Region C:\n",
    "  * Mon, Tue, Thu, Fri 9-10 am\n",
    "\n",
    "[Back to top](#top)"
   ]
  }
 ],
 "metadata": {
  "kernelspec": {
   "display_name": "Python 3",
   "language": "python",
   "name": "python3"
  },
  "language_info": {
   "codemirror_mode": {
    "name": "ipython",
    "version": 3
   },
   "file_extension": ".py",
   "mimetype": "text/x-python",
   "name": "python",
   "nbconvert_exporter": "python",
   "pygments_lexer": "ipython3",
   "version": "3.8.5"
  }
 },
 "nbformat": 4,
 "nbformat_minor": 4
}
